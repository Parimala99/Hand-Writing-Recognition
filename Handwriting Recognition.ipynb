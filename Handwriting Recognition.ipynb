{
 "cells": [
  {
   "cell_type": "code",
   "execution_count": 114,
   "metadata": {},
   "outputs": [],
   "source": [
    "import seaborn as sns\n",
    "import matplotlib.pyplot as plt\n",
    "%matplotlib inline"
   ]
  },
  {
   "cell_type": "code",
   "execution_count": 115,
   "metadata": {},
   "outputs": [],
   "source": [
    "from sklearn.datasets import load_digits\n",
    "digits = load_digits()"
   ]
  },
  {
   "cell_type": "code",
   "execution_count": 116,
   "metadata": {},
   "outputs": [
    {
     "name": "stdout",
     "output_type": "stream",
     "text": [
      ".. _digits_dataset:\n",
      "\n",
      "Optical recognition of handwritten digits dataset\n",
      "--------------------------------------------------\n",
      "\n",
      "**Data Set Characteristics:**\n",
      "\n",
      "    :Number of Instances: 1797\n",
      "    :Number of Attributes: 64\n",
      "    :Attribute Information: 8x8 image of integer pixels in the range 0..16.\n",
      "    :Missing Attribute Values: None\n",
      "    :Creator: E. Alpaydin (alpaydin '@' boun.edu.tr)\n",
      "    :Date: July; 1998\n",
      "\n",
      "This is a copy of the test set of the UCI ML hand-written digits datasets\n",
      "https://archive.ics.uci.edu/ml/datasets/Optical+Recognition+of+Handwritten+Digits\n",
      "\n",
      "The data set contains images of hand-written digits: 10 classes where\n",
      "each class refers to a digit.\n",
      "\n",
      "Preprocessing programs made available by NIST were used to extract\n",
      "normalized bitmaps of handwritten digits from a preprinted form. From a\n",
      "total of 43 people, 30 contributed to the training set and different 13\n",
      "to the test set. 32x32 bitmaps are divided into nonoverlapping blocks of\n",
      "4x4 and the number of on pixels are counted in each block. This generates\n",
      "an input matrix of 8x8 where each element is an integer in the range\n",
      "0..16. This reduces dimensionality and gives invariance to small\n",
      "distortions.\n",
      "\n",
      "For info on NIST preprocessing routines, see M. D. Garris, J. L. Blue, G.\n",
      "T. Candela, D. L. Dimmick, J. Geist, P. J. Grother, S. A. Janet, and C.\n",
      "L. Wilson, NIST Form-Based Handprint Recognition System, NISTIR 5469,\n",
      "1994.\n",
      "\n",
      ".. topic:: References\n",
      "\n",
      "  - C. Kaynak (1995) Methods of Combining Multiple Classifiers and Their\n",
      "    Applications to Handwritten Digit Recognition, MSc Thesis, Institute of\n",
      "    Graduate Studies in Science and Engineering, Bogazici University.\n",
      "  - E. Alpaydin, C. Kaynak (1998) Cascading Classifiers, Kybernetika.\n",
      "  - Ken Tang and Ponnuthurai N. Suganthan and Xi Yao and A. Kai Qin.\n",
      "    Linear dimensionalityreduction using relevance weighted LDA. School of\n",
      "    Electrical and Electronic Engineering Nanyang Technological University.\n",
      "    2005.\n",
      "  - Claudio Gentile. A New Approximate Maximal Margin Classification\n",
      "    Algorithm. NIPS. 2000.\n",
      "\n"
     ]
    }
   ],
   "source": [
    "print(digits.DESCR)"
   ]
  },
  {
   "cell_type": "code",
   "execution_count": 117,
   "metadata": {},
   "outputs": [
    {
     "data": {
      "text/plain": [
       "(1797, 8, 8)"
      ]
     },
     "execution_count": 117,
     "metadata": {},
     "output_type": "execute_result"
    }
   ],
   "source": [
    "digits.images.shape"
   ]
  },
  {
   "cell_type": "code",
   "execution_count": 118,
   "metadata": {},
   "outputs": [
    {
     "data": {
      "text/plain": [
       "array([[ 0.,  0.,  5., 13.,  9.,  1.,  0.,  0.],\n",
       "       [ 0.,  0., 13., 15., 10., 15.,  5.,  0.],\n",
       "       [ 0.,  3., 15.,  2.,  0., 11.,  8.,  0.],\n",
       "       [ 0.,  4., 12.,  0.,  0.,  8.,  8.,  0.],\n",
       "       [ 0.,  5.,  8.,  0.,  0.,  9.,  8.,  0.],\n",
       "       [ 0.,  4., 11.,  0.,  1., 12.,  7.,  0.],\n",
       "       [ 0.,  2., 14.,  5., 10., 12.,  0.,  0.],\n",
       "       [ 0.,  0.,  6., 13., 10.,  0.,  0.,  0.]])"
      ]
     },
     "execution_count": 118,
     "metadata": {},
     "output_type": "execute_result"
    }
   ],
   "source": [
    "digits.images[0]"
   ]
  },
  {
   "cell_type": "code",
   "execution_count": 119,
   "metadata": {},
   "outputs": [
    {
     "data": {
      "text/plain": [
       "<matplotlib.image.AxesImage at 0x263cdf6d070>"
      ]
     },
     "execution_count": 119,
     "metadata": {},
     "output_type": "execute_result"
    },
    {
     "data": {
      "image/png": "[encoded data removed]",
      "text/plain": [
       "<Figure size 720x432 with 1 Axes>"
      ]
     },
     "metadata": {
      "needs_background": "light"
     },
     "output_type": "display_data"
    }
   ],
   "source": [
    "plt.figure(figsize=(10,6))\n",
    "plt.imshow(digits.images[0], cmap=plt.cm.gray_r, interpolation='nearest')"
   ]
  },
  {
   "cell_type": "code",
   "execution_count": 120,
   "metadata": {},
   "outputs": [
    {
     "data": {
      "text/plain": [
       "array([0, 1, 2, ..., 8, 9, 8])"
      ]
     },
     "execution_count": 120,
     "metadata": {},
     "output_type": "execute_result"
    }
   ],
   "source": [
    "digits.target"
   ]
  },
  {
   "cell_type": "code",
   "execution_count": 121,
   "metadata": {},
   "outputs": [
    {
     "data": {
      "text/plain": [
       "1797"
      ]
     },
     "execution_count": 121,
     "metadata": {},
     "output_type": "execute_result"
    }
   ],
   "source": [
    "digits.target.size"
   ]
  },
  {
   "cell_type": "code",
   "execution_count": 122,
   "metadata": {},
   "outputs": [],
   "source": [
    "from sklearn.svm import SVC\n",
    "\n",
    "model = SVC(C = 100.,gamma=0.01)"
   ]
  },
  {
   "cell_type": "code",
   "execution_count": 123,
   "metadata": {},
   "outputs": [
    {
     "data": {
      "text/plain": [
       "<matplotlib.image.AxesImage at 0x263ce1b2670>"
      ]
     },
     "execution_count": 123,
     "metadata": {},
     "output_type": "execute_result"
    },
    {
     "data": {
      "image/png": "[encoded data removed]",
      "text/plain": [
       "<Figure size 432x288 with 6 Axes>"
      ]
     },
     "metadata": {
      "needs_background": "light"
     },
     "output_type": "display_data"
    }
   ],
   "source": [
    "plt.subplot(321)\n",
    "plt.imshow(digits.images[1791], cmap=plt.cm.gray_r,interpolation='nearest')\n",
    "plt.subplot(322)\n",
    "plt.imshow(digits.images[1792], cmap=plt.cm.gray_r,interpolation='nearest')\n",
    "plt.subplot(323)\n",
    "plt.imshow(digits.images[1793], cmap=plt.cm.gray_r,interpolation='nearest')\n",
    "plt.subplot(324)\n",
    "plt.imshow(digits.images[1794], cmap=plt.cm.gray_r,interpolation='nearest')\n",
    "plt.subplot(325)\n",
    "plt.imshow(digits.images[1795], cmap=plt.cm.gray_r,interpolation='nearest')\n",
    "plt.subplot(326)\n",
    "plt.imshow(digits.images[1796], cmap=plt.cm.gray_r,interpolation='nearest')"
   ]
  },
  {
   "cell_type": "code",
   "execution_count": 124,
   "metadata": {},
   "outputs": [
    {
     "data": {
      "text/plain": [
       "SVC(C=100.0, gamma=0.01)"
      ]
     },
     "execution_count": 124,
     "metadata": {},
     "output_type": "execute_result"
    }
   ],
   "source": [
    "model.fit(digits.data[1:1790],digits.target[1:1790])"
   ]
  },
  {
   "cell_type": "code",
   "execution_count": 125,
   "metadata": {},
   "outputs": [
    {
     "name": "stdout",
     "output_type": "stream",
     "text": [
      "[4 9 0 8 9]\n"
     ]
    }
   ],
   "source": [
    "pred = model.predict(digits.data[1791:1796])\n",
    "print(pred)"
   ]
  },
  {
   "cell_type": "code",
   "execution_count": 126,
   "metadata": {},
   "outputs": [
    {
     "name": "stdout",
     "output_type": "stream",
     "text": [
      "[[1 0 0 0]\n",
      " [0 1 0 0]\n",
      " [0 0 1 0]\n",
      " [0 0 0 2]]\n",
      "              precision    recall  f1-score   support\n",
      "\n",
      "           0       1.00      1.00      1.00         1\n",
      "           4       1.00      1.00      1.00         1\n",
      "           8       1.00      1.00      1.00         1\n",
      "           9       1.00      1.00      1.00         2\n",
      "\n",
      "    accuracy                           1.00         5\n",
      "   macro avg       1.00      1.00      1.00         5\n",
      "weighted avg       1.00      1.00      1.00         5\n",
      "\n",
      "Accuracy :  1.0\n"
     ]
    }
   ],
   "source": [
    "from sklearn.metrics import classification_report,confusion_matrix,accuracy_score\n",
    "\n",
    "print(confusion_matrix(digits.target[1791:1796],pred))\n",
    "print(classification_report(digits.target[1791:1796],pred))\n",
    "print('Accuracy : ',accuracy_score(digits.target[1791:1796],pred))"
   ]
  },
  {
   "cell_type": "code",
   "execution_count": 139,
   "metadata": {},
   "outputs": [
    {
     "data": {
      "text/plain": [
       "Text(0.5, 1.0, 'Accuracy score : 1.0')"
      ]
     },
     "execution_count": 139,
     "metadata": {},
     "output_type": "execute_result"
    },
    {
     "data": {
      "image/png": "[encoded data removed]",
      "text/plain": [
       "<Figure size 720x720 with 2 Axes>"
      ]
     },
     "metadata": {
      "needs_background": "light"
     },
     "output_type": "display_data"
    }
   ],
   "source": [
    "cm = confusion_matrix(digits.target[1791:1796],pred)\n",
    "plt.figure(figsize=(10,10))\n",
    "sns.heatmap(cm,annot=True)\n",
    "plt.ylabel('Actual Value')\n",
    "plt.xlabel('Predicted Value')\n",
    "title = 'Accuracy score : {0}'.format(accuracy_score(digits.target[1791:1796],pred))\n",
    "plt.title(title)"
   ]
  },
  {
   "cell_type": "code",
   "execution_count": 172,
   "metadata": {},
   "outputs": [],
   "source": [
    "from sklearn.model_selection import train_test_split"
   ]
  },
  {
   "cell_type": "code",
   "execution_count": 173,
   "metadata": {},
   "outputs": [
    {
     "data": {
      "text/plain": [
       "SVC(C=100.0, gamma=0.01)"
      ]
     },
     "execution_count": 173,
     "metadata": {},
     "output_type": "execute_result"
    }
   ],
   "source": [
    "model_1 = SVC(C=100.,gamma=0.01)\n",
    "X_train, X_test, y_train, y_test = train_test_split(digits.data, digits.target, test_size=0.5 ,random_state=42)\n",
    "model_1.fit(X_train,y_train)"
   ]
  },
  {
   "cell_type": "code",
   "execution_count": 174,
   "metadata": {},
   "outputs": [
    {
     "name": "stdout",
     "output_type": "stream",
     "text": [
      "[6 8 3 7 2 8 5 8 5 8 1 9 8 0 4 2 3 7 8 8 4 3 8 7 8 8 8 5 6 8 4 9 1 4 4 6 9\n",
      " 4 7 6 6 9 1 3 8 1 3 0 6 5 8 1 8 5 8 0 9 8 0 1 8 4 8 2 4 5 7 8 7 8 9 8 5 8\n",
      " 7 8 8 5 5 9 9 8 2 3 8 0 6 4 4 9 1 2 8 3 8 2 9 8 4 4 4 3 8 8 1 8 8 8 8 8 7\n",
      " 7 4 4 8 9 8 8 8 7 2 6 9 4 8 7 2 7 5 8 8 8 7 8 0 6 6 4 8 8 0 9 4 6 8 9 6 9\n",
      " 0 8 8 6 6 8 6 4 8 9 3 8 7 2 9 0 4 5 8 6 5 9 8 8 4 2 1 3 7 7 2 2 3 8 8 8 3\n",
      " 2 8 5 6 9 9 8 1 5 4 2 3 8 4 8 5 8 8 7 8 9 4 8 1 8 8 4 9 6 1 8 6 0 4 5 2 7\n",
      " 8 6 4 8 6 0 3 2 3 6 7 1 8 1 4 7 6 8 8 8 5 8 8 2 8 8 8 8 7 8 2 2 2 3 8 8 8\n",
      " 8 8 0 8 8 7 0 1 8 4 8 8 5 3 6 0 4 1 0 8 8 6 5 9 7 3 8 8 9 9 8 8 8 3 8 0 8\n",
      " 8 3 4 0 8 8 6 4 3 4 8 0 5 2 1 3 1 4 8 1 7 8 1 8 2 8 2 8 7 0 6 4 8 8 5 1 8\n",
      " 4 5 8 7 9 8 8 8 8 8 0 7 9 8 9 5 2 7 7 1 8 7 8 3 8 8 5 8 0 0 3 0 8 8 0 8 1\n",
      " 2 8 4 5 8 8 3 8 8 8 4 2 3 8 9 8 8 8 0 6 8 3 7 1 8 4 8 2 1 1 8 4 7 4 8 3 4\n",
      " 8 8 1 8 4 8 7 6 8 7 0 8 9 7 5 9 7 4 2 8 9 8 7 5 8 3 6 3 9 6 9 5 0 1 5 8 8\n",
      " 8 8 6 2 8 5 8 2 0 8 7 3 7 0 2 2 8 5 8 7 3 6 8 8 8 2 8 8 3 0 7 1 1 9 8 1 8\n",
      " 0 8 2 9 8 9 8 8 7 7 1 3 5 4 8 8 2 1 1 8 8 6 9 8 8 8 8 8 8 7 1 3 1 7 8 8 5\n",
      " 1 7 0 0 8 2 6 9 4 8 9 0 6 7 7 9 8 8 7 0 7 6 8 7 1 4 6 2 8 7 5 9 0 8 8 6 6\n",
      " 1 9 8 2 9 8 9 7 8 8 8 8 9 7 7 6 8 8 8 5 8 9 8 8 8 8 1 8 2 4 8 7 8 8 8 9 4\n",
      " 9 0 1 1 8 9 8 4 2 9 1 7 8 8 3 8 7 6 3 0 6 5 2 8 5 8 8 0 9 8 2 8 1 4 1 8 2\n",
      " 4 1 6 2 8 8 1 0 6 9 7 8 8 8 8 2 6 9 5 7 1 8 8 1 8 8 8 4 8 8 0 8 8 1 8 1 8\n",
      " 8 3 0 8 4 8 1 0 3 9 2 8 0 8 8 6 5 8 0 3 8 6 6 8 1 8 7 8 8 8 8 8 9 7 0 8 7\n",
      " 6 8 3 4 8 8 1 6 8 9 8 8 2 1 8 2 8 8 0 4 8 0 8 2 6 8 1 8 8 8 2 6 7 8 5 8 9\n",
      " 1 8 9 4 6 4 6 8 4 0 2 8 8 6 0 6 8 6 9 8 3 5 8 7 4 8 0 8 2 8 8 8 8 7 0 7 0\n",
      " 7 3 8 3 4 9 2 4 3 4 8 6 6 2 7 8 5 8 3 3 8 1 9 8 8 8 2 0 7 8 9 8 7 8 8 0 8\n",
      " 4 3 2 2 5 8 3 8 3 8 0 8 6 8 7 8 4 9 6 8 8 6 7 1 8 8 8 3 8 0 2 8 3 8 1 1 5\n",
      " 8 8 5 9 8 1 6 3 5 1 5 4 8 9 8 1 7 8 2 8 8 3 1 8 3 5 8 6 7 8 4 7 7 8 0 8 6\n",
      " 6 1 8 6 2 8 8 1 8 8 8]\n"
     ]
    }
   ],
   "source": [
    "pred_1 = model_1.predict(X_test)\n",
    "print(pred_1)"
   ]
  },
  {
   "cell_type": "code",
   "execution_count": 175,
   "metadata": {},
   "outputs": [
    {
     "name": "stdout",
     "output_type": "stream",
     "text": [
      "[[58  0  0  0  0  0  0  0 24  0]\n",
      " [ 0 67  0  0  0  0  0  0 22  0]\n",
      " [ 0  0 60  0  0  0  0  0 23  0]\n",
      " [ 0  0  0 55  0  0  0  0 38  0]\n",
      " [ 0  0  0  0 67  0  0  0 26  0]\n",
      " [ 0  0  0  0  0 48  0  0 51  0]\n",
      " [ 0  0  0  0  0  0 68  0 30  0]\n",
      " [ 0  0  0  0  0  0  0 77 10  0]\n",
      " [ 0  0  0  0  0  0  0  0 83  0]\n",
      " [ 0  0  0  0  0  0  0  0 26 66]]\n",
      "              precision    recall  f1-score   support\n",
      "\n",
      "           0       1.00      0.71      0.83        82\n",
      "           1       1.00      0.75      0.86        89\n",
      "           2       1.00      0.72      0.84        83\n",
      "           3       1.00      0.59      0.74        93\n",
      "           4       1.00      0.72      0.84        93\n",
      "           5       1.00      0.48      0.65        99\n",
      "           6       1.00      0.69      0.82        98\n",
      "           7       1.00      0.89      0.94        87\n",
      "           8       0.25      1.00      0.40        83\n",
      "           9       1.00      0.72      0.84        92\n",
      "\n",
      "    accuracy                           0.72       899\n",
      "   macro avg       0.92      0.73      0.78       899\n",
      "weighted avg       0.93      0.72      0.78       899\n",
      "\n",
      "Accuracy :  0.7219132369299222\n"
     ]
    }
   ],
   "source": [
    "print(confusion_matrix(y_test,pred_1))\n",
    "\n",
    "print(classification_report(y_test,pred_1))\n",
    "\n",
    "print('Accuracy : ',accuracy_score(y_test,pred_1))"
   ]
  },
  {
   "cell_type": "code",
   "execution_count": 176,
   "metadata": {},
   "outputs": [
    {
     "data": {
      "text/plain": [
       "Text(0.5, 1.0, 'Accuracy score : 0.7219132369299222')"
      ]
     },
     "execution_count": 176,
     "metadata": {},
     "output_type": "execute_result"
    },
    {
     "data": {
      "image/png": "[encoded data removed]",
      "text/plain": [
       "<Figure size 720x720 with 2 Axes>"
      ]
     },
     "metadata": {
      "needs_background": "light"
     },
     "output_type": "display_data"
    }
   ],
   "source": [
    "cm = confusion_matrix(y_test,pred_1)\n",
    "plt.figure(figsize=(10,10))\n",
    "sns.heatmap(cm,annot=True)\n",
    "plt.ylabel('Actual Value')\n",
    "plt.xlabel('Predicted Value')\n",
    "title = 'Accuracy score : {0}'.format(accuracy_score(y_test,pred_1))\n",
    "plt.title(title)"
   ]
  },
  {
   "cell_type": "code",
   "execution_count": 177,
   "metadata": {},
   "outputs": [
    {
     "data": {
      "text/plain": [
       "SVC(C=100.0, gamma=0.01)"
      ]
     },
     "execution_count": 177,
     "metadata": {},
     "output_type": "execute_result"
    }
   ],
   "source": [
    "model_2 = SVC(C=100.,gamma=0.01)\n",
    "X1_train, X1_test, y1_train, y1_test = train_test_split(digits.data, digits.target, test_size=0.7, random_state=42)\n",
    "model_2.fit(X1_train,y1_train)"
   ]
  },
  {
   "cell_type": "code",
   "execution_count": 178,
   "metadata": {},
   "outputs": [
    {
     "name": "stdout",
     "output_type": "stream",
     "text": [
      "[8 8 3 ... 1 0 8]\n"
     ]
    }
   ],
   "source": [
    "pred_2 = model_2.predict(X1_test)\n",
    "print(pred_2)"
   ]
  },
  {
   "cell_type": "code",
   "execution_count": 179,
   "metadata": {},
   "outputs": [
    {
     "name": "stdout",
     "output_type": "stream",
     "text": [
      "[[ 74   0   0   0   0   0   0   0  43   0]\n",
      " [  0  77   0   0   0   0   0   0  48   0]\n",
      " [  0   0  89   0   0   0   0   0  28   0]\n",
      " [  0   0   0  69   0   0   0   0  59   0]\n",
      " [  0   0   0   0  88   0   0   0  33   0]\n",
      " [  0   0   0   0   0  19   0   0 115   0]\n",
      " [  0   0   0   0   0   0  43   0  97   0]\n",
      " [  0   0   0   0   0   0   0  44  86   0]\n",
      " [  0   0   0   0   0   0   0   0 115   0]\n",
      " [  0   0   0   0   0   0   0   0 101  30]]\n",
      "              precision    recall  f1-score   support\n",
      "\n",
      "           0       1.00      0.63      0.77       117\n",
      "           1       1.00      0.62      0.76       125\n",
      "           2       1.00      0.76      0.86       117\n",
      "           3       1.00      0.54      0.70       128\n",
      "           4       1.00      0.73      0.84       121\n",
      "           5       1.00      0.14      0.25       134\n",
      "           6       1.00      0.31      0.47       140\n",
      "           7       1.00      0.34      0.51       130\n",
      "           8       0.16      1.00      0.27       115\n",
      "           9       1.00      0.23      0.37       131\n",
      "\n",
      "    accuracy                           0.52      1258\n",
      "   macro avg       0.92      0.53      0.58      1258\n",
      "weighted avg       0.92      0.52      0.58      1258\n",
      "\n",
      "Accuracy :  0.5151033386327504\n"
     ]
    }
   ],
   "source": [
    "print(confusion_matrix(y1_test,pred_2))\n",
    "\n",
    "print(classification_report(y1_test,pred_2))\n",
    "\n",
    "print('Accuracy : ',accuracy_score(y1_test,pred_2))"
   ]
  },
  {
   "cell_type": "code",
   "execution_count": 180,
   "metadata": {},
   "outputs": [
    {
     "data": {
      "text/plain": [
       "Text(0.5, 1.0, 'Accuracy score : 0.5151033386327504')"
      ]
     },
     "execution_count": 180,
     "metadata": {},
     "output_type": "execute_result"
    },
    {
     "data": {
      "image/png": "[encoded data removed]",
      "text/plain": [
       "<Figure size 720x720 with 2 Axes>"
      ]
     },
     "metadata": {
      "needs_background": "light"
     },
     "output_type": "display_data"
    }
   ],
   "source": [
    "cm = confusion_matrix(y1_test,pred_2)\n",
    "plt.figure(figsize=(10,10))\n",
    "sns.heatmap(cm,annot=True)\n",
    "plt.ylabel('Actual Value')\n",
    "plt.xlabel('Predicted Value')\n",
    "title = 'Accuracy score : {0}'.format(accuracy_score(y1_test,pred_2))\n",
    "plt.title(title)"
   ]
  }
 ],
 "metadata": {
  "kernelspec": {
   "display_name": "Python 3",
   "language": "python",
   "name": "python3"
  },
  "language_info": {
   "codemirror_mode": {
    "name": "ipython",
    "version": 3
   },
   "file_extension": ".py",
   "mimetype": "text/x-python",
   "name": "python",
   "nbconvert_exporter": "python",
   "pygments_lexer": "ipython3",
   "version": "3.8.3"
  }
 },
 "nbformat": 4,
 "nbformat_minor": 4
}
